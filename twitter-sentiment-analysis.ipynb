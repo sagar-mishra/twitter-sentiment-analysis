{
 "cells": [
  {
   "cell_type": "code",
   "execution_count": 1,
   "source": [
    "import numpy as np \r\n",
    "import pandas as pd "
   ],
   "outputs": [
    {
     "output_type": "stream",
     "name": "stdout",
     "text": [
      "['train.csv', 'test.csv']\n"
     ]
    }
   ],
   "metadata": {
    "_cell_guid": "b1076dfc-b9ad-4769-8c92-a6c4dae69d19",
    "_uuid": "8f2839f25d086af736a60e9eeb907d3b93b6e0e5"
   }
  },
  {
   "cell_type": "code",
   "execution_count": 2,
   "source": [
    "train_df = pd.read_csv(\"../input/train.csv\")\r\n",
    "test_df = pd.read_csv(\"../input/test.csv\")"
   ],
   "outputs": [],
   "metadata": {
    "_cell_guid": "79c7e3d0-c299-4dcb-8224-4455121ee9b0",
    "_uuid": "d629ff2d2480ee46fbb7e2d37f6b5fab8052498a"
   }
  },
  {
   "cell_type": "code",
   "execution_count": 3,
   "source": [
    "print(train_df.shape)\r\n",
    "print(test_df.shape)"
   ],
   "outputs": [
    {
     "output_type": "stream",
     "name": "stdout",
     "text": [
      "(31962, 3)\n",
      "(17197, 2)\n"
     ]
    }
   ],
   "metadata": {}
  },
  {
   "cell_type": "code",
   "execution_count": 4,
   "source": [
    "train_df.head()"
   ],
   "outputs": [
    {
     "output_type": "execute_result",
     "data": {
      "text/plain": [
       "   id  label                                              tweet\n",
       "0   1      0   @user when a father is dysfunctional and is s...\n",
       "1   2      0  @user @user thanks for #lyft credit i can't us...\n",
       "2   3      0                                bihday your majesty\n",
       "3   4      0  #model   i love u take with u all the time in ...\n",
       "4   5      0             factsguide: society now    #motivation"
      ],
      "text/html": [
       "<div>\n",
       "<style scoped>\n",
       "    .dataframe tbody tr th:only-of-type {\n",
       "        vertical-align: middle;\n",
       "    }\n",
       "\n",
       "    .dataframe tbody tr th {\n",
       "        vertical-align: top;\n",
       "    }\n",
       "\n",
       "    .dataframe thead th {\n",
       "        text-align: right;\n",
       "    }\n",
       "</style>\n",
       "<table border=\"1\" class=\"dataframe\">\n",
       "  <thead>\n",
       "    <tr style=\"text-align: right;\">\n",
       "      <th></th>\n",
       "      <th>id</th>\n",
       "      <th>label</th>\n",
       "      <th>tweet</th>\n",
       "    </tr>\n",
       "  </thead>\n",
       "  <tbody>\n",
       "    <tr>\n",
       "      <th>0</th>\n",
       "      <td>1</td>\n",
       "      <td>0</td>\n",
       "      <td>@user when a father is dysfunctional and is s...</td>\n",
       "    </tr>\n",
       "    <tr>\n",
       "      <th>1</th>\n",
       "      <td>2</td>\n",
       "      <td>0</td>\n",
       "      <td>@user @user thanks for #lyft credit i can't us...</td>\n",
       "    </tr>\n",
       "    <tr>\n",
       "      <th>2</th>\n",
       "      <td>3</td>\n",
       "      <td>0</td>\n",
       "      <td>bihday your majesty</td>\n",
       "    </tr>\n",
       "    <tr>\n",
       "      <th>3</th>\n",
       "      <td>4</td>\n",
       "      <td>0</td>\n",
       "      <td>#model   i love u take with u all the time in ...</td>\n",
       "    </tr>\n",
       "    <tr>\n",
       "      <th>4</th>\n",
       "      <td>5</td>\n",
       "      <td>0</td>\n",
       "      <td>factsguide: society now    #motivation</td>\n",
       "    </tr>\n",
       "  </tbody>\n",
       "</table>\n",
       "</div>"
      ]
     },
     "metadata": {},
     "execution_count": 4
    }
   ],
   "metadata": {}
  },
  {
   "cell_type": "code",
   "execution_count": 5,
   "source": [
    "test_df.head()"
   ],
   "outputs": [
    {
     "output_type": "execute_result",
     "data": {
      "text/plain": [
       "      id                                              tweet\n",
       "0  31963  #studiolife #aislife #requires #passion #dedic...\n",
       "1  31964   @user #white #supremacists want everyone to s...\n",
       "2  31965  safe ways to heal your #acne!!    #altwaystohe...\n",
       "3  31966  is the hp and the cursed child book up for res...\n",
       "4  31967    3rd #bihday to my amazing, hilarious #nephew..."
      ],
      "text/html": [
       "<div>\n",
       "<style scoped>\n",
       "    .dataframe tbody tr th:only-of-type {\n",
       "        vertical-align: middle;\n",
       "    }\n",
       "\n",
       "    .dataframe tbody tr th {\n",
       "        vertical-align: top;\n",
       "    }\n",
       "\n",
       "    .dataframe thead th {\n",
       "        text-align: right;\n",
       "    }\n",
       "</style>\n",
       "<table border=\"1\" class=\"dataframe\">\n",
       "  <thead>\n",
       "    <tr style=\"text-align: right;\">\n",
       "      <th></th>\n",
       "      <th>id</th>\n",
       "      <th>tweet</th>\n",
       "    </tr>\n",
       "  </thead>\n",
       "  <tbody>\n",
       "    <tr>\n",
       "      <th>0</th>\n",
       "      <td>31963</td>\n",
       "      <td>#studiolife #aislife #requires #passion #dedic...</td>\n",
       "    </tr>\n",
       "    <tr>\n",
       "      <th>1</th>\n",
       "      <td>31964</td>\n",
       "      <td>@user #white #supremacists want everyone to s...</td>\n",
       "    </tr>\n",
       "    <tr>\n",
       "      <th>2</th>\n",
       "      <td>31965</td>\n",
       "      <td>safe ways to heal your #acne!!    #altwaystohe...</td>\n",
       "    </tr>\n",
       "    <tr>\n",
       "      <th>3</th>\n",
       "      <td>31966</td>\n",
       "      <td>is the hp and the cursed child book up for res...</td>\n",
       "    </tr>\n",
       "    <tr>\n",
       "      <th>4</th>\n",
       "      <td>31967</td>\n",
       "      <td>3rd #bihday to my amazing, hilarious #nephew...</td>\n",
       "    </tr>\n",
       "  </tbody>\n",
       "</table>\n",
       "</div>"
      ]
     },
     "metadata": {},
     "execution_count": 5
    }
   ],
   "metadata": {}
  },
  {
   "cell_type": "code",
   "execution_count": 6,
   "source": [
    "train_df['label'].value_counts()"
   ],
   "outputs": [
    {
     "output_type": "execute_result",
     "data": {
      "text/plain": [
       "0    29720\n",
       "1     2242\n",
       "Name: label, dtype: int64"
      ]
     },
     "metadata": {},
     "execution_count": 6
    }
   ],
   "metadata": {}
  },
  {
   "cell_type": "markdown",
   "source": [
    "As shown above large number of tweets are not racist/sexist."
   ],
   "metadata": {}
  },
  {
   "cell_type": "code",
   "execution_count": 7,
   "source": [
    "pos_tweet = train_df['label'].value_counts()[0]\r\n",
    "neg_tweet = train_df['label'].value_counts()[1]\r\n",
    "\r\n",
    "total = len(train_df)\r\n",
    "\r\n",
    "print(\"percentage of positive tweets : \", (pos_tweet/total)*100 )\r\n",
    "print(\"percentage of negative tweets : \", (neg_tweet/total)*100)"
   ],
   "outputs": [
    {
     "output_type": "stream",
     "name": "stdout",
     "text": [
      "percentage of positive tweets :  92.98542018647143\n",
      "percentage of negative tweets :  7.014579813528565\n"
     ]
    }
   ],
   "metadata": {}
  },
  {
   "cell_type": "code",
   "execution_count": 8,
   "source": [
    "train_df[train_df['label'] == 1].head()"
   ],
   "outputs": [
    {
     "output_type": "execute_result",
     "data": {
      "text/plain": [
       "    id  label                                              tweet\n",
       "13  14      1  @user #cnn calls #michigan middle school 'buil...\n",
       "14  15      1  no comment!  in #australia   #opkillingbay #se...\n",
       "17  18      1                             retweet if you agree! \n",
       "23  24      1    @user @user lumpy says i am a . prove it lumpy.\n",
       "34  35      1  it's unbelievable that in the 21st century we'..."
      ],
      "text/html": [
       "<div>\n",
       "<style scoped>\n",
       "    .dataframe tbody tr th:only-of-type {\n",
       "        vertical-align: middle;\n",
       "    }\n",
       "\n",
       "    .dataframe tbody tr th {\n",
       "        vertical-align: top;\n",
       "    }\n",
       "\n",
       "    .dataframe thead th {\n",
       "        text-align: right;\n",
       "    }\n",
       "</style>\n",
       "<table border=\"1\" class=\"dataframe\">\n",
       "  <thead>\n",
       "    <tr style=\"text-align: right;\">\n",
       "      <th></th>\n",
       "      <th>id</th>\n",
       "      <th>label</th>\n",
       "      <th>tweet</th>\n",
       "    </tr>\n",
       "  </thead>\n",
       "  <tbody>\n",
       "    <tr>\n",
       "      <th>13</th>\n",
       "      <td>14</td>\n",
       "      <td>1</td>\n",
       "      <td>@user #cnn calls #michigan middle school 'buil...</td>\n",
       "    </tr>\n",
       "    <tr>\n",
       "      <th>14</th>\n",
       "      <td>15</td>\n",
       "      <td>1</td>\n",
       "      <td>no comment!  in #australia   #opkillingbay #se...</td>\n",
       "    </tr>\n",
       "    <tr>\n",
       "      <th>17</th>\n",
       "      <td>18</td>\n",
       "      <td>1</td>\n",
       "      <td>retweet if you agree!</td>\n",
       "    </tr>\n",
       "    <tr>\n",
       "      <th>23</th>\n",
       "      <td>24</td>\n",
       "      <td>1</td>\n",
       "      <td>@user @user lumpy says i am a . prove it lumpy.</td>\n",
       "    </tr>\n",
       "    <tr>\n",
       "      <th>34</th>\n",
       "      <td>35</td>\n",
       "      <td>1</td>\n",
       "      <td>it's unbelievable that in the 21st century we'...</td>\n",
       "    </tr>\n",
       "  </tbody>\n",
       "</table>\n",
       "</div>"
      ]
     },
     "metadata": {},
     "execution_count": 8
    }
   ],
   "metadata": {}
  },
  {
   "cell_type": "markdown",
   "source": [
    "**Preprocessing steps :**\n",
    "1. As twitter handles(@user) are not giving any useful information therefore we remove it.\n",
    "2. Remove html tags.\n",
    "3. Decontract text like won't => would not \n",
    "4. Removing punctuations, non-alphabetic character.\n",
    "5. remove small words like any, all, his, her as this words are not giving any useful information.\n",
    "6. lowercase the all the words.\n",
    "7. remove stop words.\n",
    "8. do stemming "
   ],
   "metadata": {}
  },
  {
   "cell_type": "code",
   "execution_count": 9,
   "source": [
    "train_df['tweet'][0]"
   ],
   "outputs": [
    {
     "output_type": "execute_result",
     "data": {
      "text/plain": [
       "' @user when a father is dysfunctional and is so selfish he drags his kids into his dysfunction.   #run'"
      ]
     },
     "metadata": {},
     "execution_count": 9
    }
   ],
   "metadata": {}
  },
  {
   "cell_type": "code",
   "execution_count": 10,
   "source": [
    "class Decontract():\r\n",
    "    \r\n",
    "    pattern = [(r'won\\'t', ' will not'),\r\n",
    "                 (r'\\'s', ' is'),\r\n",
    "                 (r'don\\'t', ' do not'),\r\n",
    "                 (r'can\\'t', ' can not'),\r\n",
    "                 (r'n\\'t','not'),\r\n",
    "                 (r'\\'re','are'),\r\n",
    "                 (r'\\'d','would'),\r\n",
    "                 (r'\\'ll','will'),\r\n",
    "                 (r'\\'t','not'),\r\n",
    "                 (r'\\'ve','have'),\r\n",
    "                 (r'\\'m','am')\r\n",
    "                ]\r\n",
    "    \r\n",
    "    def __init__(self) :\r\n",
    "        pass\r\n",
    "        \r\n",
    "    def replace(self,text):\r\n",
    "        for (raw,replace) in self.pattern:\r\n",
    "            regex = re.compile(raw)\r\n",
    "            text = regex.sub(replace,text)\r\n",
    "        return text"
   ],
   "outputs": [],
   "metadata": {}
  },
  {
   "cell_type": "code",
   "execution_count": 11,
   "source": [
    "import re\r\n",
    "from bs4 import BeautifulSoup \r\n",
    "from nltk.corpus import stopwords\r\n",
    "from nltk.tokenize import word_tokenize\r\n",
    "from nltk.stem import WordNetLemmatizer\r\n",
    "\r\n",
    "lemmatizer = WordNetLemmatizer()\r\n",
    "decontract = Decontract() \r\n",
    "stopWords = set(stopwords.words('english'))\r\n",
    "\r\n",
    "def preprocessing(sentence) :\r\n",
    "    \r\n",
    "    #removing tweeter handles\r\n",
    "    sentence = re.sub(r'@[\\w]*','', sentence)\r\n",
    "    \r\n",
    "    #removing html tags\r\n",
    "    sentence = BeautifulSoup(sentence, 'html.parser').get_text()\r\n",
    "    \r\n",
    "    #Decontract words\r\n",
    "    sentence = decontract.replace(sentence)\r\n",
    "    \r\n",
    "    #remove non-alphabetic characters\r\n",
    "    sentence = re.sub('[^A-Za-z]+',\" \", sentence)\r\n",
    "    \r\n",
    "    #remove all words with length less than 3 and lower case the words\r\n",
    "    sentence = ' '.join([word.lower() for word in sentence.split() if len(word)>3])\r\n",
    "\r\n",
    "    #removing stop words\r\n",
    "    sentence = ' '.join([word for word in sentence.split() if word not in stopWords])\r\n",
    "    \r\n",
    "    #stemming the word using porterStemmer\r\n",
    "    sentence = ' '.join([lemmatizer.lemmatize(word) for word in word_tokenize(sentence)])\r\n",
    "    \r\n",
    "    return sentence\r\n",
    "    \r\n",
    "    \r\n",
    "    "
   ],
   "outputs": [],
   "metadata": {}
  },
  {
   "cell_type": "code",
   "execution_count": 12,
   "source": [
    "train_df['preprocessed_tweet'] = train_df['tweet'].apply(preprocessing)"
   ],
   "outputs": [],
   "metadata": {}
  },
  {
   "cell_type": "code",
   "execution_count": 13,
   "source": [
    "train_df.head()"
   ],
   "outputs": [
    {
     "output_type": "execute_result",
     "data": {
      "text/plain": [
       "   id  label                                              tweet  \\\n",
       "0   1      0   @user when a father is dysfunctional and is s...   \n",
       "1   2      0  @user @user thanks for #lyft credit i can't us...   \n",
       "2   3      0                                bihday your majesty   \n",
       "3   4      0  #model   i love u take with u all the time in ...   \n",
       "4   5      0             factsguide: society now    #motivation   \n",
       "\n",
       "                                  preprocessed_tweet  \n",
       "0  father dysfunctional selfish drag kid dysfunction  \n",
       "1  thanks lyft credit cause offer wheelchair van ...  \n",
       "2                                     bihday majesty  \n",
       "3                               model love take time  \n",
       "4                      factsguide society motivation  "
      ],
      "text/html": [
       "<div>\n",
       "<style scoped>\n",
       "    .dataframe tbody tr th:only-of-type {\n",
       "        vertical-align: middle;\n",
       "    }\n",
       "\n",
       "    .dataframe tbody tr th {\n",
       "        vertical-align: top;\n",
       "    }\n",
       "\n",
       "    .dataframe thead th {\n",
       "        text-align: right;\n",
       "    }\n",
       "</style>\n",
       "<table border=\"1\" class=\"dataframe\">\n",
       "  <thead>\n",
       "    <tr style=\"text-align: right;\">\n",
       "      <th></th>\n",
       "      <th>id</th>\n",
       "      <th>label</th>\n",
       "      <th>tweet</th>\n",
       "      <th>preprocessed_tweet</th>\n",
       "    </tr>\n",
       "  </thead>\n",
       "  <tbody>\n",
       "    <tr>\n",
       "      <th>0</th>\n",
       "      <td>1</td>\n",
       "      <td>0</td>\n",
       "      <td>@user when a father is dysfunctional and is s...</td>\n",
       "      <td>father dysfunctional selfish drag kid dysfunction</td>\n",
       "    </tr>\n",
       "    <tr>\n",
       "      <th>1</th>\n",
       "      <td>2</td>\n",
       "      <td>0</td>\n",
       "      <td>@user @user thanks for #lyft credit i can't us...</td>\n",
       "      <td>thanks lyft credit cause offer wheelchair van ...</td>\n",
       "    </tr>\n",
       "    <tr>\n",
       "      <th>2</th>\n",
       "      <td>3</td>\n",
       "      <td>0</td>\n",
       "      <td>bihday your majesty</td>\n",
       "      <td>bihday majesty</td>\n",
       "    </tr>\n",
       "    <tr>\n",
       "      <th>3</th>\n",
       "      <td>4</td>\n",
       "      <td>0</td>\n",
       "      <td>#model   i love u take with u all the time in ...</td>\n",
       "      <td>model love take time</td>\n",
       "    </tr>\n",
       "    <tr>\n",
       "      <th>4</th>\n",
       "      <td>5</td>\n",
       "      <td>0</td>\n",
       "      <td>factsguide: society now    #motivation</td>\n",
       "      <td>factsguide society motivation</td>\n",
       "    </tr>\n",
       "  </tbody>\n",
       "</table>\n",
       "</div>"
      ]
     },
     "metadata": {},
     "execution_count": 13
    }
   ],
   "metadata": {}
  },
  {
   "cell_type": "code",
   "execution_count": 14,
   "source": [
    "train_df.drop(['id','tweet'],axis = 1, inplace = True)\r\n",
    "train_df.head()"
   ],
   "outputs": [
    {
     "output_type": "execute_result",
     "data": {
      "text/plain": [
       "   label                                 preprocessed_tweet\n",
       "0      0  father dysfunctional selfish drag kid dysfunction\n",
       "1      0  thanks lyft credit cause offer wheelchair van ...\n",
       "2      0                                     bihday majesty\n",
       "3      0                               model love take time\n",
       "4      0                      factsguide society motivation"
      ],
      "text/html": [
       "<div>\n",
       "<style scoped>\n",
       "    .dataframe tbody tr th:only-of-type {\n",
       "        vertical-align: middle;\n",
       "    }\n",
       "\n",
       "    .dataframe tbody tr th {\n",
       "        vertical-align: top;\n",
       "    }\n",
       "\n",
       "    .dataframe thead th {\n",
       "        text-align: right;\n",
       "    }\n",
       "</style>\n",
       "<table border=\"1\" class=\"dataframe\">\n",
       "  <thead>\n",
       "    <tr style=\"text-align: right;\">\n",
       "      <th></th>\n",
       "      <th>label</th>\n",
       "      <th>preprocessed_tweet</th>\n",
       "    </tr>\n",
       "  </thead>\n",
       "  <tbody>\n",
       "    <tr>\n",
       "      <th>0</th>\n",
       "      <td>0</td>\n",
       "      <td>father dysfunctional selfish drag kid dysfunction</td>\n",
       "    </tr>\n",
       "    <tr>\n",
       "      <th>1</th>\n",
       "      <td>0</td>\n",
       "      <td>thanks lyft credit cause offer wheelchair van ...</td>\n",
       "    </tr>\n",
       "    <tr>\n",
       "      <th>2</th>\n",
       "      <td>0</td>\n",
       "      <td>bihday majesty</td>\n",
       "    </tr>\n",
       "    <tr>\n",
       "      <th>3</th>\n",
       "      <td>0</td>\n",
       "      <td>model love take time</td>\n",
       "    </tr>\n",
       "    <tr>\n",
       "      <th>4</th>\n",
       "      <td>0</td>\n",
       "      <td>factsguide society motivation</td>\n",
       "    </tr>\n",
       "  </tbody>\n",
       "</table>\n",
       "</div>"
      ]
     },
     "metadata": {},
     "execution_count": 14
    }
   ],
   "metadata": {}
  },
  {
   "cell_type": "code",
   "execution_count": 15,
   "source": [
    "y = train_df['label']\r\n",
    "train_df.drop(['label'],axis = 1, inplace = True)\r\n",
    "train_df.head()"
   ],
   "outputs": [
    {
     "output_type": "execute_result",
     "data": {
      "text/plain": [
       "                                  preprocessed_tweet\n",
       "0  father dysfunctional selfish drag kid dysfunction\n",
       "1  thanks lyft credit cause offer wheelchair van ...\n",
       "2                                     bihday majesty\n",
       "3                               model love take time\n",
       "4                      factsguide society motivation"
      ],
      "text/html": [
       "<div>\n",
       "<style scoped>\n",
       "    .dataframe tbody tr th:only-of-type {\n",
       "        vertical-align: middle;\n",
       "    }\n",
       "\n",
       "    .dataframe tbody tr th {\n",
       "        vertical-align: top;\n",
       "    }\n",
       "\n",
       "    .dataframe thead th {\n",
       "        text-align: right;\n",
       "    }\n",
       "</style>\n",
       "<table border=\"1\" class=\"dataframe\">\n",
       "  <thead>\n",
       "    <tr style=\"text-align: right;\">\n",
       "      <th></th>\n",
       "      <th>preprocessed_tweet</th>\n",
       "    </tr>\n",
       "  </thead>\n",
       "  <tbody>\n",
       "    <tr>\n",
       "      <th>0</th>\n",
       "      <td>father dysfunctional selfish drag kid dysfunction</td>\n",
       "    </tr>\n",
       "    <tr>\n",
       "      <th>1</th>\n",
       "      <td>thanks lyft credit cause offer wheelchair van ...</td>\n",
       "    </tr>\n",
       "    <tr>\n",
       "      <th>2</th>\n",
       "      <td>bihday majesty</td>\n",
       "    </tr>\n",
       "    <tr>\n",
       "      <th>3</th>\n",
       "      <td>model love take time</td>\n",
       "    </tr>\n",
       "    <tr>\n",
       "      <th>4</th>\n",
       "      <td>factsguide society motivation</td>\n",
       "    </tr>\n",
       "  </tbody>\n",
       "</table>\n",
       "</div>"
      ]
     },
     "metadata": {},
     "execution_count": 15
    }
   ],
   "metadata": {}
  },
  {
   "cell_type": "markdown",
   "source": [
    "**Splitting data into train,cv and test**"
   ],
   "metadata": {}
  },
  {
   "cell_type": "code",
   "execution_count": 16,
   "source": [
    "from sklearn.model_selection import train_test_split\r\n",
    "X_train, X_test, y_train, y_test = train_test_split(train_df, y, test_size=0.33, stratify=y)\r\n",
    "X_train, X_cv, y_train, y_cv = train_test_split(X_train, y_train, test_size=0.33, stratify=y_train)"
   ],
   "outputs": [],
   "metadata": {}
  },
  {
   "cell_type": "markdown",
   "source": [
    "**Vectorizing text data**"
   ],
   "metadata": {}
  },
  {
   "cell_type": "code",
   "execution_count": 17,
   "source": [
    "from sklearn.feature_extraction.text import TfidfVectorizer\r\n",
    "vectorizer = TfidfVectorizer(min_df=10)\r\n",
    "vectorizer.fit(X_train['preprocessed_tweet'].values)\r\n",
    "\r\n",
    "X_train_tfidf = vectorizer.transform(X_train['preprocessed_tweet'].values)\r\n",
    "X_cv_tfidf = vectorizer.transform(X_cv['preprocessed_tweet'].values)\r\n",
    "X_test_tfidf = vectorizer.transform(X_test['preprocessed_tweet'].values)\r\n",
    "\r\n",
    "print(\"After vectorizations\")\r\n",
    "print(X_train_tfidf.shape, y_train.shape)\r\n",
    "print(X_cv_tfidf.shape, y_cv.shape)\r\n",
    "print(X_test_tfidf.shape, y_test.shape)\r\n",
    "feature_names = vectorizer.get_feature_names()"
   ],
   "outputs": [
    {
     "output_type": "stream",
     "name": "stdout",
     "text": [
      "After vectorizations\n",
      "(14347, 1453) (14347,)\n",
      "(7067, 1453) (7067,)\n",
      "(10548, 1453) (10548,)\n"
     ]
    }
   ],
   "metadata": {}
  },
  {
   "cell_type": "code",
   "execution_count": 18,
   "source": [
    "#sentiments strength of tweet of X_train\r\n",
    "from nltk.sentiment.vader import SentimentIntensityAnalyzer \r\n",
    "from tqdm import tqdm\r\n",
    "\r\n",
    "sid = SentimentIntensityAnalyzer() \r\n",
    "\r\n",
    "neg_sentiment = []\r\n",
    "neu_sentiment = []\r\n",
    "pos_sentiment = []\r\n",
    "com_sentiment = []\r\n",
    "\r\n",
    "for sentence in tqdm(X_train['preprocessed_tweet']):\r\n",
    "    vector = sid.polarity_scores(sentence)\r\n",
    "    neg_sentiment.append(vector['neg'])\r\n",
    "    neu_sentiment.append(vector['neu'])\r\n",
    "    pos_sentiment.append(vector['pos'])\r\n",
    "    com_sentiment.append(vector['compound'])\r\n",
    "    \r\n",
    "X_train_neg_sentiment = np.array(neg_sentiment).reshape(-1,1)\r\n",
    "X_train_neu_sentiment = np.array(neu_sentiment).reshape(-1,1)\r\n",
    "X_train_pos_sentiment = np.array(pos_sentiment).reshape(-1,1)\r\n",
    "X_train_com_sentiment = np.array(com_sentiment).reshape(-1,1)"
   ],
   "outputs": [
    {
     "output_type": "stream",
     "name": "stderr",
     "text": [
      "/opt/conda/lib/python3.6/site-packages/nltk/twitter/__init__.py:20: UserWarning: The twython library has not been installed. Some functionality from the twitter package will not be available.\n",
      "  warnings.warn(\"The twython library has not been installed. \"\n",
      "100%|██████████| 14347/14347 [00:02<00:00, 5490.76it/s]\n"
     ]
    }
   ],
   "metadata": {}
  },
  {
   "cell_type": "code",
   "execution_count": 19,
   "source": [
    "#sentiments strength of tweet of X_cv\r\n",
    "\r\n",
    "sid = SentimentIntensityAnalyzer() \r\n",
    "\r\n",
    "neg_sentiment = []\r\n",
    "neu_sentiment = []\r\n",
    "pos_sentiment = []\r\n",
    "com_sentiment = []\r\n",
    "\r\n",
    "for sentence in tqdm(X_cv['preprocessed_tweet']):\r\n",
    "    vector = sid.polarity_scores(sentence)\r\n",
    "    neg_sentiment.append(vector['neg'])\r\n",
    "    neu_sentiment.append(vector['neu'])\r\n",
    "    pos_sentiment.append(vector['pos'])\r\n",
    "    com_sentiment.append(vector['compound'])\r\n",
    "    \r\n",
    "X_cv_neg_sentiment = np.array(neg_sentiment).reshape(-1,1)\r\n",
    "X_cv_neu_sentiment = np.array(neu_sentiment).reshape(-1,1)\r\n",
    "X_cv_pos_sentiment = np.array(pos_sentiment).reshape(-1,1)\r\n",
    "X_cv_com_sentiment = np.array(com_sentiment).reshape(-1,1)"
   ],
   "outputs": [
    {
     "output_type": "stream",
     "name": "stderr",
     "text": [
      "100%|██████████| 7067/7067 [00:01<00:00, 5513.76it/s]\n"
     ]
    }
   ],
   "metadata": {}
  },
  {
   "cell_type": "code",
   "execution_count": 20,
   "source": [
    "#sentiments strength of tweet of X_test\r\n",
    "\r\n",
    "sid = SentimentIntensityAnalyzer() \r\n",
    "\r\n",
    "neg_sentiment = []\r\n",
    "neu_sentiment = []\r\n",
    "pos_sentiment = []\r\n",
    "com_sentiment = []\r\n",
    "\r\n",
    "for sentence in tqdm(X_test['preprocessed_tweet']):\r\n",
    "    vector = sid.polarity_scores(sentence)\r\n",
    "    neg_sentiment.append(vector['neg'])\r\n",
    "    neu_sentiment.append(vector['neu'])\r\n",
    "    pos_sentiment.append(vector['pos'])\r\n",
    "    com_sentiment.append(vector['compound'])\r\n",
    "    \r\n",
    "X_test_neg_sentiment = np.array(neg_sentiment).reshape(-1,1)\r\n",
    "X_test_neu_sentiment = np.array(neu_sentiment).reshape(-1,1)\r\n",
    "X_test_pos_sentiment = np.array(pos_sentiment).reshape(-1,1)\r\n",
    "X_test_com_sentiment = np.array(com_sentiment).reshape(-1,1)"
   ],
   "outputs": [
    {
     "output_type": "stream",
     "name": "stderr",
     "text": [
      "100%|██████████| 10548/10548 [00:01<00:00, 5534.89it/s]\n"
     ]
    }
   ],
   "metadata": {}
  },
  {
   "cell_type": "code",
   "execution_count": 21,
   "source": [
    "from scipy.sparse import hstack\r\n",
    "\r\n",
    "X_train = hstack((X_train_neg_sentiment,X_train_neu_sentiment,X_train_pos_sentiment,X_train_com_sentiment,X_train_tfidf )).tocsr()\r\n",
    "X_cv = hstack((X_cv_neg_sentiment,X_cv_neu_sentiment,X_cv_pos_sentiment,X_cv_com_sentiment,X_cv_tfidf )).tocsr()\r\n",
    "X_test = hstack((X_test_neg_sentiment,X_test_neu_sentiment,X_test_pos_sentiment,X_test_com_sentiment,X_test_tfidf )).tocsr()\r\n",
    "\r\n",
    "print(X_train.shape, y_train.shape)\r\n",
    "print(X_cv.shape, y_cv.shape)\r\n",
    "print(X_test.shape, y_test.shape)"
   ],
   "outputs": [
    {
     "output_type": "stream",
     "name": "stdout",
     "text": [
      "(14347, 1457) (14347,)\n",
      "(7067, 1457) (7067,)\n",
      "(10548, 1457) (10548,)\n"
     ]
    }
   ],
   "metadata": {}
  },
  {
   "cell_type": "markdown",
   "source": [
    "**Modelling**"
   ],
   "metadata": {}
  },
  {
   "cell_type": "markdown",
   "source": [
    "1) Applying Logistic Regression"
   ],
   "metadata": {}
  },
  {
   "cell_type": "code",
   "execution_count": 22,
   "source": [
    "import matplotlib.pyplot as plt\r\n",
    "from sklearn.linear_model import SGDClassifier\r\n",
    "from sklearn.metrics import roc_auc_score\r\n",
    "\r\n",
    "train_auc = []\r\n",
    "cv_auc = []\r\n",
    "alpha = [0.00001,0.0001, 0.001, 0.01, 0.1, 1, 10, 100]\r\n",
    "\r\n",
    "for a in alpha:\r\n",
    "    clf = SGDClassifier(loss = 'log', penalty = 'l2' , alpha = a,class_weight = \"balanced\")\r\n",
    "    clf.fit(X_train,y_train)\r\n",
    "    y_train_pred = clf.predict_proba(X_train)[:,1]\r\n",
    "    y_cv_pred = clf.predict_proba(X_cv)[:,1]\r\n",
    "    \r\n",
    "    train_auc.append(roc_auc_score(y_train,y_train_pred))\r\n",
    "    cv_auc.append(roc_auc_score(y_cv, y_cv_pred))\r\n",
    "    \r\n",
    "plt.plot(np.log(alpha), train_auc, label = \"Train AUC\")\r\n",
    "plt.plot(np.log(alpha), cv_auc, label = \"CV AUC\")\r\n",
    "\r\n",
    "plt.scatter(np.log(alpha), train_auc, label = \"Train AUC points\")\r\n",
    "plt.scatter(np.log(alpha), cv_auc, label = \"CV AUC points\")\r\n",
    "\r\n",
    "plt.legend()\r\n",
    "plt.xlabel(\"alpha: hyperparameter\")\r\n",
    "plt.ylabel(\"AUC\")\r\n",
    "plt.title(\"Error Loss\")\r\n",
    "plt.grid()\r\n",
    "plt.show()"
   ],
   "outputs": [
    {
     "output_type": "display_data",
     "data": {
      "text/plain": [
       "<Figure size 432x288 with 1 Axes>"
      ],
      "image/png": "[encoded data removed]"
     },
     "metadata": {
      "needs_background": "light"
     }
    }
   ],
   "metadata": {}
  },
  {
   "cell_type": "code",
   "execution_count": 23,
   "source": [
    "lr_tfidf_best_alpha = 0.1"
   ],
   "outputs": [],
   "metadata": {}
  },
  {
   "cell_type": "code",
   "execution_count": 24,
   "source": [
    "from sklearn.metrics import roc_curve,auc\r\n",
    "\r\n",
    "lr = SGDClassifier(loss = 'log', alpha = lr_tfidf_best_alpha, penalty = 'l2',class_weight = \"balanced\")\r\n",
    "lr.fit(X_train, y_train)\r\n",
    "\r\n",
    "y_train_pred = lr.predict_proba(X_train)[:,1]\r\n",
    "y_test_pred = lr.predict_proba(X_test)[:,1]\r\n",
    "\r\n",
    "train_fpr, train_tpr, tr_thresholds = roc_curve(y_train, y_train_pred)\r\n",
    "test_fpr, test_tpr, te_thresholds = roc_curve(y_cv, y_cv_pred)\r\n",
    "\r\n",
    "train_auc_tfidf_lr = auc(train_fpr,train_tpr)\r\n",
    "test_auc_tfidf_lr = auc(test_fpr, test_tpr)\r\n",
    "\r\n",
    "plt.plot(train_fpr,train_tpr,label = \"Train Auc = \"+str(train_auc_tfidf_lr))\r\n",
    "plt.plot(test_fpr,test_tpr,label = \"Test Auc = \"+str(test_auc_tfidf_lr))\r\n",
    "plt.legend()\r\n",
    "plt.xlabel(\"fpr\")\r\n",
    "plt.ylabel(\"tpr\")\r\n",
    "plt.title(\"ROC\")\r\n",
    "plt.grid()\r\n",
    "plt.show()"
   ],
   "outputs": [
    {
     "output_type": "display_data",
     "data": {
      "text/plain": [
       "<Figure size 432x288 with 1 Axes>"
      ],
      "image/png": "[encoded data removed]"
     },
     "metadata": {
      "needs_background": "light"
     }
    }
   ],
   "metadata": {}
  },
  {
   "cell_type": "code",
   "execution_count": 25,
   "source": [
    "import seaborn as sns\r\n",
    "from sklearn.metrics import confusion_matrix\r\n",
    "print(\"Train Confusion matrix\")\r\n",
    "train_cm = confusion_matrix(y_train,lr.predict(X_train))\r\n",
    "ax = sns.heatmap(train_cm, annot=True, fmt=\"d\", linewidths=.5, cbar=False)\r\n",
    "plt.xlabel('Predicted Class')\r\n",
    "plt.ylabel('Original Class')\r\n",
    "plt.title(\"Confusion matrix\")\r\n",
    "ax"
   ],
   "outputs": [
    {
     "output_type": "stream",
     "name": "stdout",
     "text": [
      "Train Confusion matrix\n"
     ]
    },
    {
     "output_type": "execute_result",
     "data": {
      "text/plain": [
       "<matplotlib.axes._subplots.AxesSubplot at 0x7faa8828d668>"
      ]
     },
     "metadata": {},
     "execution_count": 25
    },
    {
     "output_type": "display_data",
     "data": {
      "text/plain": [
       "<Figure size 432x288 with 1 Axes>"
      ],
      "image/png": "[encoded data removed]"
     },
     "metadata": {
      "needs_background": "light"
     }
    }
   ],
   "metadata": {}
  },
  {
   "cell_type": "code",
   "execution_count": 26,
   "source": [
    "print(\"Test Confusion matrix\")\r\n",
    "train_cm = confusion_matrix(y_test,lr.predict(X_test))\r\n",
    "ax = sns.heatmap(train_cm, annot=True, fmt=\"d\", linewidths=.5, cbar=False)\r\n",
    "plt.xlabel('Predicted Class')\r\n",
    "plt.ylabel('Original Class')\r\n",
    "plt.title(\"Confusion matrix\")\r\n",
    "ax"
   ],
   "outputs": [
    {
     "output_type": "stream",
     "name": "stdout",
     "text": [
      "Test Confusion matrix\n"
     ]
    },
    {
     "output_type": "execute_result",
     "data": {
      "text/plain": [
       "<matplotlib.axes._subplots.AxesSubplot at 0x7faa88211748>"
      ]
     },
     "metadata": {},
     "execution_count": 26
    },
    {
     "output_type": "display_data",
     "data": {
      "text/plain": [
       "<Figure size 432x288 with 1 Axes>"
      ],
      "image/png": "[encoded data removed]"
     },
     "metadata": {
      "needs_background": "light"
     }
    }
   ],
   "metadata": {}
  },
  {
   "cell_type": "markdown",
   "source": [
    "2) linear SVM"
   ],
   "metadata": {}
  },
  {
   "cell_type": "code",
   "execution_count": 27,
   "source": [
    "from sklearn.model_selection import GridSearchCV\r\n",
    "from sklearn.svm import SVC\r\n",
    "\r\n",
    "train_auc = []\r\n",
    "cv_auc = []\r\n",
    "\r\n",
    "alpha = [0.0001, 0.001, 0.01, 0.1, 1, 10, 100]\r\n",
    "penalty = ['l1','l2']\r\n",
    "\r\n",
    "parameters = {'alpha' : alpha, 'penalty' : penalty}\r\n",
    "\r\n",
    "svm = SGDClassifier(loss = 'hinge', class_weight = 'balanced')\r\n",
    "clf = GridSearchCV(svm, parameters, scoring = 'roc_auc', cv=8)\r\n",
    "clf.fit(X_train, y_train) \r\n",
    "\r\n",
    "print(clf.best_estimator_.alpha)\r\n",
    "print(clf.best_estimator_.penalty)"
   ],
   "outputs": [
    {
     "output_type": "stream",
     "name": "stdout",
     "text": [
      "0.001\n",
      "l2\n"
     ]
    }
   ],
   "metadata": {}
  },
  {
   "cell_type": "code",
   "execution_count": 28,
   "source": [
    "print(clf.score(X_test,y_test))"
   ],
   "outputs": [
    {
     "output_type": "stream",
     "name": "stdout",
     "text": [
      "0.8967619510824036\n"
     ]
    }
   ],
   "metadata": {}
  },
  {
   "cell_type": "code",
   "execution_count": 29,
   "source": [
    "lr_svm_tfidf_best_alpha = 0.01\r\n",
    "lr_svm_tfidf_best_penalty = 'l2'"
   ],
   "outputs": [],
   "metadata": {}
  },
  {
   "cell_type": "code",
   "execution_count": 30,
   "source": [
    "from sklearn.calibration import CalibratedClassifierCV\r\n",
    "\r\n",
    "lr_svm = SGDClassifier(loss = 'hinge', class_weight = 'balanced', alpha = lr_svm_tfidf_best_alpha, penalty = lr_svm_tfidf_best_penalty )\r\n",
    "\r\n",
    "#configuring calibrated model to obtain output probabilities, because SGDClassifier with hinge los s don't give output probabilities \r\n",
    "lr_svm_cc = CalibratedClassifierCV(lr_svm, cv = 8)\r\n",
    "lr_svm_cc.fit(X_train,y_train)\r\n",
    "\r\n",
    "y_train_pred = lr_svm_cc.predict_proba(X_train)[:,1]\r\n",
    "y_test_pred = lr_svm_cc.predict_proba(X_test)[:,1]\r\n",
    "\r\n",
    "train_fpr, train_tpr, tr_thresholds = roc_curve(y_train,y_train_pred)\r\n",
    "test_fpr, test_tpr, te_thresholds = roc_curve(y_test, y_test_pred)\r\n",
    "\r\n",
    "train_auc_tfidf_lr_svm = auc(train_fpr, train_tpr)\r\n",
    "test_auc_tfidf_lr_svm = auc(test_fpr, test_tpr)\r\n",
    "\r\n",
    "plt.plot(train_fpr, train_tpr, label = \"Train Auc = \"+str(train_auc_tfidf_lr_svm))\r\n",
    "plt.plot(test_fpr, test_tpr, label = \"Test Auc = \"+str(test_auc_tfidf_lr_svm))\r\n",
    "\r\n",
    "plt.legend()\r\n",
    "plt.xlabel(\"FPR\")\r\n",
    "plt.ylabel(\"TPR\")\r\n",
    "plt.title(\"ROC\")\r\n",
    "plt.grid()\r\n",
    "plt.show()"
   ],
   "outputs": [
    {
     "output_type": "display_data",
     "data": {
      "text/plain": [
       "<Figure size 432x288 with 1 Axes>"
      ],
      "image/png": "[encoded data removed]"
     },
     "metadata": {
      "needs_background": "light"
     }
    }
   ],
   "metadata": {}
  },
  {
   "cell_type": "markdown",
   "source": [
    "3) Random Forest"
   ],
   "metadata": {}
  },
  {
   "cell_type": "code",
   "execution_count": 31,
   "source": [
    "from sklearn.ensemble import RandomForestClassifier\r\n",
    "\r\n",
    "train_auc = []\r\n",
    "cv_auc = []\r\n",
    "\r\n",
    "max_depth = [1, 5, 10, 50, 100, 500, 1000]\r\n",
    "n_estimators  = [5, 10, 100, 500, 1000]\r\n",
    "\r\n",
    "for estimator in n_estimators:\r\n",
    "    train_lst = []\r\n",
    "    cv_lst = []\r\n",
    "    for depth in max_depth:\r\n",
    "        clf = RandomForestClassifier(class_weight = \"balanced_subsample\", max_depth = depth, n_estimators = estimator, n_jobs = -1)\r\n",
    "        clf.fit(X_train, y_train)\r\n",
    "        \r\n",
    "        y_train_pred = clf.predict_proba(X_train)[:,1]\r\n",
    "        y_cv_pred = clf.predict_proba(X_cv)[:,1]\r\n",
    "        \r\n",
    "        train_lst.append(roc_auc_score(y_train,y_train_pred))\r\n",
    "        cv_lst.append(roc_auc_score(y_cv,y_cv_pred))\r\n",
    "        \r\n",
    "    train_auc.append(train_lst)\r\n",
    "    cv_auc.append(cv_lst)"
   ],
   "outputs": [],
   "metadata": {}
  },
  {
   "cell_type": "code",
   "execution_count": 32,
   "source": [
    "# creating dataframe of train auc for heatmap\r\n",
    "df = pd.DataFrame(train_auc)"
   ],
   "outputs": [],
   "metadata": {}
  },
  {
   "cell_type": "code",
   "execution_count": 33,
   "source": [
    "#heat map of train auc\r\n",
    "ax = sns.heatmap(df, annot=True, linewidths=.5, cbar=False,yticklabels=n_estimators, xticklabels=max_depth)\r\n",
    "ax\r\n",
    "plt.xlabel(\"max_depth\");\r\n",
    "plt.ylabel(\"n_estimators\")"
   ],
   "outputs": [
    {
     "output_type": "execute_result",
     "data": {
      "text/plain": [
       "Text(33.0, 0.5, 'n_estimators')"
      ]
     },
     "metadata": {},
     "execution_count": 33
    },
    {
     "output_type": "display_data",
     "data": {
      "text/plain": [
       "<Figure size 432x288 with 1 Axes>"
      ],
      "image/png": "[encoded data removed]"
     },
     "metadata": {
      "needs_background": "light"
     }
    }
   ],
   "metadata": {}
  },
  {
   "cell_type": "code",
   "execution_count": 34,
   "source": [
    "#creating data frame of cv_auc for heat map\r\n",
    "df = pd.DataFrame(cv_auc)"
   ],
   "outputs": [],
   "metadata": {}
  },
  {
   "cell_type": "code",
   "execution_count": 35,
   "source": [
    "#heat map of cv auc\r\n",
    "ax = sns.heatmap(df, annot = True, linewidths=.5, cbar=False,yticklabels=n_estimators, xticklabels=max_depth)\r\n",
    "ax\r\n",
    "plt.xlabel(\"max_depth\");\r\n",
    "plt.ylabel(\"n_estimators\")"
   ],
   "outputs": [
    {
     "output_type": "execute_result",
     "data": {
      "text/plain": [
       "Text(33.0, 0.5, 'n_estimators')"
      ]
     },
     "metadata": {},
     "execution_count": 35
    },
    {
     "output_type": "display_data",
     "data": {
      "text/plain": [
       "<Figure size 432x288 with 1 Axes>"
      ],
      "image/png": "[encoded data removed]"
     },
     "metadata": {
      "needs_background": "light"
     }
    }
   ],
   "metadata": {}
  },
  {
   "cell_type": "code",
   "execution_count": 36,
   "source": [
    "rf_best_max_depth = 10\r\n",
    "rf_best_n_estimators = 500"
   ],
   "outputs": [],
   "metadata": {}
  },
  {
   "cell_type": "code",
   "execution_count": 37,
   "source": [
    "rf = RandomForestClassifier(class_weight = \"balanced_subsample\", max_depth = rf_best_max_depth, n_estimators = rf_best_n_estimators, n_jobs = -1)\r\n",
    "rf.fit(X_train,y_train)\r\n",
    "y_train_pred = rf.predict_proba(X_train)[:,1]\r\n",
    "y_test_pred = rf.predict_proba(X_test)[:,1]\r\n",
    "\r\n",
    "train_fpr, train_tpr, tr_thresholds = roc_curve(y_train, y_train_pred)\r\n",
    "test_fpr, test_tpr, te_thresholds = roc_curve(y_test, y_test_pred)\r\n",
    "\r\n",
    "train_auc_tfidf_rf = auc(train_fpr, train_tpr)\r\n",
    "test_auc_tfidf_rf = auc(test_fpr, test_tpr)\r\n",
    "\r\n",
    "plt.plot(train_fpr, train_tpr, label = \"Train AUC \" + str(train_auc_tfidf_rf))\r\n",
    "plt.plot(test_fpr, test_tpr, label = \"Test AUC \" +str(test_auc_tfidf_rf))\r\n",
    "plt.legend()\r\n",
    "plt.xlabel(\"FPR\")\r\n",
    "plt.ylabel(\"TPR\")\r\n",
    "plt.title(\"ROC\")\r\n",
    "plt.show()"
   ],
   "outputs": [
    {
     "output_type": "display_data",
     "data": {
      "text/plain": [
       "<Figure size 432x288 with 1 Axes>"
      ],
      "image/png": "[encoded data removed]"
     },
     "metadata": {
      "needs_background": "light"
     }
    }
   ],
   "metadata": {}
  },
  {
   "cell_type": "markdown",
   "source": [
    "4) XGBOOST"
   ],
   "metadata": {}
  },
  {
   "cell_type": "code",
   "execution_count": 38,
   "source": [
    "from xgboost.sklearn import XGBClassifier\r\n",
    "\r\n",
    "train_auc = []\r\n",
    "cv_auc = []\r\n",
    "\r\n",
    "max_depth = [3,5,7,9]\r\n",
    "n_estimators = [5,10,100,500,1000]\r\n",
    "\r\n",
    "for estimator in n_estimators :\r\n",
    "    train_lst = []\r\n",
    "    cv_lst = []\r\n",
    "    for depth in max_depth : \r\n",
    "        xgb_model = XGBClassifier(max_depth = depth, n_estimators = estimator, n_jobs = -1)\r\n",
    "        xgb_model.fit(X_train, y_train)\r\n",
    "        \r\n",
    "        y_train_pred = xgb_model.predict_proba(X_train)[:,1]\r\n",
    "        y_cv_pred = xgb_model.predict_proba(X_cv)[:,1]\r\n",
    "        \r\n",
    "        train_lst.append(roc_auc_score(y_train, y_train_pred))\r\n",
    "        cv_lst.append(roc_auc_score(y_cv, y_cv_pred))\r\n",
    "        \r\n",
    "    train_auc.append(train_lst)\r\n",
    "    cv_auc.append(cv_lst)\r\n",
    "    \r\n"
   ],
   "outputs": [],
   "metadata": {}
  },
  {
   "cell_type": "code",
   "execution_count": 39,
   "source": [
    "df = pd.DataFrame(train_auc)\r\n",
    "\r\n",
    "ax = sns.heatmap(df, annot=True, linewidths=.5, cbar=False,yticklabels=n_estimators, xticklabels=max_depth)\r\n",
    "ax\r\n",
    "plt.xlabel(\"max_depth\")\r\n",
    "plt.ylabel(\"n_estimators\")"
   ],
   "outputs": [
    {
     "output_type": "execute_result",
     "data": {
      "text/plain": [
       "Text(33.0, 0.5, 'n_estimators')"
      ]
     },
     "metadata": {},
     "execution_count": 39
    },
    {
     "output_type": "display_data",
     "data": {
      "text/plain": [
       "<Figure size 432x288 with 1 Axes>"
      ],
      "image/png": "[encoded data removed]"
     },
     "metadata": {
      "needs_background": "light"
     }
    }
   ],
   "metadata": {}
  },
  {
   "cell_type": "code",
   "execution_count": 40,
   "source": [
    "df = pd.DataFrame(cv_auc)\r\n",
    "ax = sns.heatmap(df, annot=True, linewidths=.5, cbar=False,yticklabels=n_estimators, xticklabels=max_depth)\r\n",
    "ax\r\n",
    "plt.xlabel(\"max_depth\")\r\n",
    "plt.ylabel(\"n_estimators\")"
   ],
   "outputs": [
    {
     "output_type": "execute_result",
     "data": {
      "text/plain": [
       "Text(33.0, 0.5, 'n_estimators')"
      ]
     },
     "metadata": {},
     "execution_count": 40
    },
    {
     "output_type": "display_data",
     "data": {
      "text/plain": [
       "<Figure size 432x288 with 1 Axes>"
      ],
      "image/png": "[encoded data removed]"
     },
     "metadata": {
      "needs_background": "light"
     }
    }
   ],
   "metadata": {}
  },
  {
   "cell_type": "code",
   "execution_count": 41,
   "source": [
    "rf_best_max_depth = 3\r\n",
    "rf_best_n_estimators = 500"
   ],
   "outputs": [],
   "metadata": {}
  },
  {
   "cell_type": "code",
   "execution_count": 42,
   "source": [
    "xgb_model = XGBClassifier(max_depth = rf_best_max_depth, n_estimators = rf_best_n_estimators, n_jobs = -1)\r\n",
    "xgb_model.fit(X_train, y_train)\r\n",
    "\r\n",
    "y_train_pred = xgb_model.predict_proba(X_train)[:,1]\r\n",
    "y_test_pred = xgb_model.predict_proba(X_test)[:,1]\r\n",
    "\r\n",
    "train_fpr, train_tpr, tr_thresholds = roc_curve(y_train,y_train_pred)\r\n",
    "test_fpr, test_tpr, te_thresholds = roc_curve(y_test, y_test_pred)\r\n",
    "\r\n",
    "train_auc_tfidf_xgb = auc(train_fpr, train_tpr)\r\n",
    "test_auc_tfidf_xgb = auc(test_fpr, test_tpr)\r\n",
    "\r\n",
    "plt.plot(train_fpr, train_tpr, label = \"Train AUC = \" + str(train_auc_tfidf_xgb))\r\n",
    "plt.plot(test_fpr, test_tpr, label = \"Test AUC = \" + str(test_auc_tfidf_xgb))\r\n",
    "plt.legend()\r\n",
    "plt.xlabel(\"FPR\")\r\n",
    "plt.ylabel(\"TPR\")\r\n",
    "plt.title(\"ROC\")\r\n",
    "plt.grid()\r\n",
    "plt.show()"
   ],
   "outputs": [
    {
     "output_type": "display_data",
     "data": {
      "text/plain": [
       "<Figure size 432x288 with 1 Axes>"
      ],
      "image/png": "[encoded data removed]"
     },
     "metadata": {
      "needs_background": "light"
     }
    }
   ],
   "metadata": {}
  },
  {
   "cell_type": "markdown",
   "source": [
    "<h3>Summary of each model with their respective AUC Score</h3>"
   ],
   "metadata": {}
  },
  {
   "cell_type": "code",
   "execution_count": 43,
   "source": [
    "from prettytable import PrettyTable\r\n",
    "\r\n",
    "x = PrettyTable()\r\n",
    "x.field_names = [\"Model\", \"AUC\"]\r\n",
    "x.add_row([\"Logistic Regression\",test_auc_tfidf_lr])\r\n",
    "x.add_row([\"Linear SVM\",test_auc_tfidf_lr_svm])\r\n",
    "x.add_row([\"Random Forest\",test_auc_tfidf_rf])\r\n",
    "x.add_row([\"XGBoost\",test_auc_tfidf_xgb])\r\n",
    "print(x)"
   ],
   "outputs": [
    {
     "output_type": "stream",
     "name": "stdout",
     "text": [
      "+---------------------+--------------------+\n",
      "|        Model        |        AUC         |\n",
      "+---------------------+--------------------+\n",
      "| Logistic Regression | 0.7489255084658396 |\n",
      "|      Linear SVM     | 0.813823313015299  |\n",
      "|    Random Forest    | 0.8490901663286452 |\n",
      "|       XGBoost       | 0.8834468415193333 |\n",
      "+---------------------+--------------------+\n"
     ]
    }
   ],
   "metadata": {}
  },
  {
   "cell_type": "markdown",
   "source": [
    "**Observation :** From above table it seems that XGBoost performs better than other models therefore we use XGBoost with other vectorizer or for prediction of test dataset."
   ],
   "metadata": {}
  },
  {
   "cell_type": "markdown",
   "source": [
    "<h3>Prediction on Test dataset using XGBoost</h3>"
   ],
   "metadata": {}
  },
  {
   "cell_type": "code",
   "execution_count": 44,
   "source": [
    "test_df['preprocessed_tweet'] = test_df['tweet'].apply(preprocessing)"
   ],
   "outputs": [],
   "metadata": {}
  },
  {
   "cell_type": "code",
   "execution_count": 45,
   "source": [
    "test_df.head()"
   ],
   "outputs": [
    {
     "output_type": "execute_result",
     "data": {
      "text/plain": [
       "      id                                              tweet  \\\n",
       "0  31963  #studiolife #aislife #requires #passion #dedic...   \n",
       "1  31964   @user #white #supremacists want everyone to s...   \n",
       "2  31965  safe ways to heal your #acne!!    #altwaystohe...   \n",
       "3  31966  is the hp and the cursed child book up for res...   \n",
       "4  31967    3rd #bihday to my amazing, hilarious #nephew...   \n",
       "\n",
       "                                  preprocessed_tweet  \n",
       "0  studiolife aislife requires passion dedication...  \n",
       "1         white supremacist want everyone bird movie  \n",
       "2   safe way heal acne altwaystoheal healthy healing  \n",
       "3  cursed child book reservation already harrypot...  \n",
       "4  bihday amazing hilarious nephew ahmir uncle da...  "
      ],
      "text/html": [
       "<div>\n",
       "<style scoped>\n",
       "    .dataframe tbody tr th:only-of-type {\n",
       "        vertical-align: middle;\n",
       "    }\n",
       "\n",
       "    .dataframe tbody tr th {\n",
       "        vertical-align: top;\n",
       "    }\n",
       "\n",
       "    .dataframe thead th {\n",
       "        text-align: right;\n",
       "    }\n",
       "</style>\n",
       "<table border=\"1\" class=\"dataframe\">\n",
       "  <thead>\n",
       "    <tr style=\"text-align: right;\">\n",
       "      <th></th>\n",
       "      <th>id</th>\n",
       "      <th>tweet</th>\n",
       "      <th>preprocessed_tweet</th>\n",
       "    </tr>\n",
       "  </thead>\n",
       "  <tbody>\n",
       "    <tr>\n",
       "      <th>0</th>\n",
       "      <td>31963</td>\n",
       "      <td>#studiolife #aislife #requires #passion #dedic...</td>\n",
       "      <td>studiolife aislife requires passion dedication...</td>\n",
       "    </tr>\n",
       "    <tr>\n",
       "      <th>1</th>\n",
       "      <td>31964</td>\n",
       "      <td>@user #white #supremacists want everyone to s...</td>\n",
       "      <td>white supremacist want everyone bird movie</td>\n",
       "    </tr>\n",
       "    <tr>\n",
       "      <th>2</th>\n",
       "      <td>31965</td>\n",
       "      <td>safe ways to heal your #acne!!    #altwaystohe...</td>\n",
       "      <td>safe way heal acne altwaystoheal healthy healing</td>\n",
       "    </tr>\n",
       "    <tr>\n",
       "      <th>3</th>\n",
       "      <td>31966</td>\n",
       "      <td>is the hp and the cursed child book up for res...</td>\n",
       "      <td>cursed child book reservation already harrypot...</td>\n",
       "    </tr>\n",
       "    <tr>\n",
       "      <th>4</th>\n",
       "      <td>31967</td>\n",
       "      <td>3rd #bihday to my amazing, hilarious #nephew...</td>\n",
       "      <td>bihday amazing hilarious nephew ahmir uncle da...</td>\n",
       "    </tr>\n",
       "  </tbody>\n",
       "</table>\n",
       "</div>"
      ]
     },
     "metadata": {},
     "execution_count": 45
    }
   ],
   "metadata": {}
  },
  {
   "cell_type": "code",
   "execution_count": 46,
   "source": [
    "test_df.drop(['id','tweet'],axis = 1, inplace = True)\r\n",
    "test_df.head()"
   ],
   "outputs": [
    {
     "output_type": "execute_result",
     "data": {
      "text/plain": [
       "                                  preprocessed_tweet\n",
       "0  studiolife aislife requires passion dedication...\n",
       "1         white supremacist want everyone bird movie\n",
       "2   safe way heal acne altwaystoheal healthy healing\n",
       "3  cursed child book reservation already harrypot...\n",
       "4  bihday amazing hilarious nephew ahmir uncle da..."
      ],
      "text/html": [
       "<div>\n",
       "<style scoped>\n",
       "    .dataframe tbody tr th:only-of-type {\n",
       "        vertical-align: middle;\n",
       "    }\n",
       "\n",
       "    .dataframe tbody tr th {\n",
       "        vertical-align: top;\n",
       "    }\n",
       "\n",
       "    .dataframe thead th {\n",
       "        text-align: right;\n",
       "    }\n",
       "</style>\n",
       "<table border=\"1\" class=\"dataframe\">\n",
       "  <thead>\n",
       "    <tr style=\"text-align: right;\">\n",
       "      <th></th>\n",
       "      <th>preprocessed_tweet</th>\n",
       "    </tr>\n",
       "  </thead>\n",
       "  <tbody>\n",
       "    <tr>\n",
       "      <th>0</th>\n",
       "      <td>studiolife aislife requires passion dedication...</td>\n",
       "    </tr>\n",
       "    <tr>\n",
       "      <th>1</th>\n",
       "      <td>white supremacist want everyone bird movie</td>\n",
       "    </tr>\n",
       "    <tr>\n",
       "      <th>2</th>\n",
       "      <td>safe way heal acne altwaystoheal healthy healing</td>\n",
       "    </tr>\n",
       "    <tr>\n",
       "      <th>3</th>\n",
       "      <td>cursed child book reservation already harrypot...</td>\n",
       "    </tr>\n",
       "    <tr>\n",
       "      <th>4</th>\n",
       "      <td>bihday amazing hilarious nephew ahmir uncle da...</td>\n",
       "    </tr>\n",
       "  </tbody>\n",
       "</table>\n",
       "</div>"
      ]
     },
     "metadata": {},
     "execution_count": 46
    }
   ],
   "metadata": {}
  },
  {
   "cell_type": "code",
   "execution_count": 47,
   "source": [
    "#applying tfidf vectorizer on preprocessed_tweet\r\n",
    "test_df_tfidf = vectorizer.transform(test_df['preprocessed_tweet'].values)"
   ],
   "outputs": [],
   "metadata": {}
  },
  {
   "cell_type": "code",
   "execution_count": 48,
   "source": [
    "#sentiments strength of tweet of test dataframe\r\n",
    "from nltk.sentiment.vader import SentimentIntensityAnalyzer \r\n",
    "from tqdm import tqdm\r\n",
    "\r\n",
    "sid = SentimentIntensityAnalyzer() \r\n",
    "\r\n",
    "neg_sentiment = []\r\n",
    "neu_sentiment = []\r\n",
    "pos_sentiment = []\r\n",
    "com_sentiment = []\r\n",
    "\r\n",
    "for sentence in tqdm(test_df['preprocessed_tweet']):\r\n",
    "    vector = sid.polarity_scores(sentence)\r\n",
    "    neg_sentiment.append(vector['neg'])\r\n",
    "    neu_sentiment.append(vector['neu'])\r\n",
    "    pos_sentiment.append(vector['pos'])\r\n",
    "    com_sentiment.append(vector['compound'])\r\n",
    "    \r\n",
    "test_df_neg_sentiment = np.array(neg_sentiment).reshape(-1,1)\r\n",
    "test_df_neu_sentiment = np.array(neu_sentiment).reshape(-1,1)\r\n",
    "test_df_pos_sentiment = np.array(pos_sentiment).reshape(-1,1)\r\n",
    "test_df_com_sentiment = np.array(com_sentiment).reshape(-1,1)"
   ],
   "outputs": [
    {
     "output_type": "stream",
     "name": "stderr",
     "text": [
      "100%|██████████| 17197/17197 [00:03<00:00, 5487.01it/s]\n"
     ]
    }
   ],
   "metadata": {}
  },
  {
   "cell_type": "code",
   "execution_count": 49,
   "source": [
    "#creating data matrix \r\n",
    "test_data_matrix = hstack((test_df_neg_sentiment,test_df_neu_sentiment,test_df_pos_sentiment,test_df_com_sentiment,test_df_tfidf )).tocsr()"
   ],
   "outputs": [],
   "metadata": {}
  },
  {
   "cell_type": "code",
   "execution_count": 50,
   "source": [
    "#Predicting using XGBoost model\r\n",
    "y_pred = xgb_model.predict(test_data_matrix)"
   ],
   "outputs": [],
   "metadata": {}
  },
  {
   "cell_type": "code",
   "execution_count": 51,
   "source": [
    "y_pred"
   ],
   "outputs": [
    {
     "output_type": "execute_result",
     "data": {
      "text/plain": [
       "array([0, 0, 0, ..., 0, 0, 0])"
      ]
     },
     "metadata": {},
     "execution_count": 51
    }
   ],
   "metadata": {}
  }
 ],
 "metadata": {
  "kernelspec": {
   "display_name": "Python 3",
   "language": "python",
   "name": "python3"
  },
  "language_info": {
   "codemirror_mode": {
    "name": "ipython",
    "version": 3
   },
   "file_extension": ".py",
   "mimetype": "text/x-python",
   "name": "python",
   "nbconvert_exporter": "python",
   "pygments_lexer": "ipython3",
   "version": "3.6.6"
  }
 },
 "nbformat": 4,
 "nbformat_minor": 4
}